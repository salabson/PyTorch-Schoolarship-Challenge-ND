{
 "cells": [
  {
   "cell_type": "markdown",
   "metadata": {},
   "source": [
    "# Neural networks with PyTorch\n",
    "\n",
    "Deep learning networks tend to be massive with dozens or hundreds of layers, that's where the term \"deep\" comes from. You can build one of these deep networks using only weight matrices as we did in the previous notebook, but in general it's very cumbersome and difficult to implement. PyTorch has a nice module `nn` that provides a nice way to efficiently build large neural networks."
   ]
  },
  {
   "cell_type": "code",
   "execution_count": 68,
   "metadata": {},
   "outputs": [],
   "source": [
    "# Import necessary packages\n",
    "\n",
    "%matplotlib inline\n",
    "%config InlineBackend.figure_format = 'retina'\n",
    "\n",
    "import numpy as np\n",
    "import torch\n",
    "\n",
    "import helper\n",
    "\n",
    "import matplotlib.pyplot as plt"
   ]
  },
  {
   "cell_type": "markdown",
   "metadata": {},
   "source": [
    "\n",
    "Now we're going to build a larger network that can solve a (formerly) difficult problem, identifying text in an image. Here we'll use the MNIST dataset which consists of greyscale handwritten digits. Each image is 28x28 pixels, you can see a sample below\n",
    "\n",
    "<img src='assets/mnist.png'>\n",
    "\n",
    "Our goal is to build a neural network that can take one of these images and predict the digit in the image.\n",
    "\n",
    "First up, we need to get our dataset. This is provided through the `torchvision` package. The code below will download the MNIST dataset, then create training and test datasets for us. Don't worry too much about the details here, you'll learn more about this later."
   ]
  },
  {
   "cell_type": "code",
   "execution_count": 69,
   "metadata": {},
   "outputs": [],
   "source": [
    "### Run this cell\n",
    "\n",
    "from torchvision import datasets, transforms\n",
    "\n",
    "# Define a transform to normalize the data\n",
    "transform = transforms.Compose([transforms.ToTensor(),\n",
    "                              transforms.Normalize((0.5,), (0.5,)),\n",
    "                              ])\n",
    "\n",
    "# Download and load the training data\n",
    "trainset = datasets.MNIST('~/.pytorch/MNIST_data/', download=True, train=True, transform=transform)\n",
    "trainloader = torch.utils.data.DataLoader(trainset, batch_size=64, shuffle=True)"
   ]
  },
  {
   "cell_type": "markdown",
   "metadata": {},
   "source": [
    "We have the training data loaded into `trainloader` and we make that an iterator with `iter(trainloader)`. Later, we'll use this to loop through the dataset for training, like\n",
    "\n",
    "```python\n",
    "for image, label in trainloader:\n",
    "    ## do things with images and labels\n",
    "```\n",
    "\n",
    "You'll notice I created the `trainloader` with a batch size of 64, and `shuffle=True`. The batch size is the number of images we get in one iteration from the data loader and pass through our network, often called a *batch*. And `shuffle=True` tells it to shuffle the dataset every time we start going through the data loader again. But here I'm just grabbing the first batch so we can check out the data. We can see below that `images` is just a tensor with size `(64, 1, 28, 28)`. So, 64 images per batch, 1 color channel, and 28x28 images."
   ]
  },
  {
   "cell_type": "code",
   "execution_count": 70,
   "metadata": {},
   "outputs": [
    {
     "name": "stdout",
     "output_type": "stream",
     "text": [
      "<class 'torch.Tensor'>\n",
      "torch.Size([64, 1, 28, 28])\n",
      "torch.Size([64])\n"
     ]
    }
   ],
   "source": [
    "dataiter = iter(trainloader)\n",
    "images, labels = dataiter.next()\n",
    "print(type(images))\n",
    "print(images.shape)\n",
    "print(labels.shape)"
   ]
  },
  {
   "cell_type": "markdown",
   "metadata": {},
   "source": [
    "This is what one of the images looks like. "
   ]
  },
  {
   "cell_type": "code",
   "execution_count": 71,
   "metadata": {},
   "outputs": [
    {
     "data": {
      "image/png": "[encoded data removed]",
      "text/plain": [
       "<Figure size 432x288 with 1 Axes>"
      ]
     },
     "metadata": {
      "image/png": {
       "height": 250,
       "width": 253
      },
      "needs_background": "light"
     },
     "output_type": "display_data"
    }
   ],
   "source": [
    "plt.imshow(images[1].numpy().squeeze(), cmap='Greys_r');"
   ]
  },
  {
   "cell_type": "markdown",
   "metadata": {},
   "source": [
    "First, let's try to build a simple network for this dataset using weight matrices and matrix multiplications. Then, we'll see how to do it using PyTorch's `nn` module which provides a much more convenient and powerful method for defining network architectures.\n",
    "\n",
    "The networks you've seen so far are called *fully-connected* or *dense* networks. Each unit in one layer is connected to each unit in the next layer. In fully-connected networks, the input to each layer must be a one-dimensional vector (which can be stacked into a 2D tensor as a batch of multiple examples). However, our images are 28x28 2D tensors, so we need to convert them into 1D vectors. Thinking about sizes, we need to convert the batch of images with shape `(64, 1, 28, 28)` to a have a shape of `(64, 784)`, 784 is 28 times 28. This is typically called *flattening*, we flattened the 2D images into 1D vectors.\n",
    "\n",
    "Previously you built a network with one output unit. Here we need 10 output units, one for each digit. We want our network to predict the digit shown in an image, so what we'll do is calculate probabilities that the image is of any one digit or class. This ends up being a discrete probability distribution over the classes (digits) that tells us the most likely class for the image. That means we need 10 output units for the 10 classes (digits). We'll see how to convert the network output into a probability distribution next.\n",
    "\n",
    "> **Exercise:** Flatten the batch of images `images`. Then build a multi-layer network with 784 input units, 256 hidden units, and 10 output units using random tensors for the weights and biases. For now, use a sigmoid activation for the hidden layer. Leave the output layer without an activation, we'll add one that gives us a probability distribution next."
   ]
  },
  {
   "cell_type": "code",
   "execution_count": 72,
   "metadata": {},
   "outputs": [
    {
     "name": "stdout",
     "output_type": "stream",
     "text": [
      "torch.Size([64, 10])\n"
     ]
    },
    {
     "data": {
      "text/plain": [
       "tensor([[-1.0914e+28, -5.0513e+27,  7.6829e+27,  7.6145e+27, -1.1534e+27,\n",
       "          1.3617e+28, -4.8335e+27, -4.1757e+27,  6.6939e+27, -7.3430e+27],\n",
       "        [-1.0384e+31, -5.6620e+30, -4.8732e+31,  4.3104e+30, -1.6819e+31,\n",
       "          8.5186e+28, -1.9026e+31, -2.4857e+31,  3.0993e+31, -4.3036e+31],\n",
       "        [-4.8419e+24, -6.4338e+24,  2.8306e+23, -2.2687e+24, -4.1400e+24,\n",
       "          9.1920e+24, -5.0742e+24,  1.1021e+24, -1.9855e+23,  3.0032e+24],\n",
       "        [-4.3963e+31,  7.7455e+30,  4.9220e+31,  5.3288e+31,  3.3292e+31,\n",
       "         -4.0698e+30, -1.4198e+31,  3.5640e+29, -6.1085e+31, -4.4393e+31],\n",
       "        [-3.0379e+29, -1.6452e+29, -1.4105e+30,  1.2821e+29, -4.8711e+29,\n",
       "          5.0583e+27, -5.5210e+29, -7.2259e+29,  9.0113e+29, -1.2513e+30],\n",
       "        [-2.9737e+24, -1.9376e+24, -3.6650e+25,  8.4916e+24, -1.2892e+25,\n",
       "         -6.9264e+24, -1.4539e+25, -1.3420e+25,  2.4807e+25, -3.0919e+25],\n",
       "        [-1.6155e+28, -3.5114e+28, -9.4719e+27, -2.6414e+28, -2.5988e+28,\n",
       "          4.1303e+28, -2.7041e+28,  1.3826e+28, -1.1321e+28,  3.1321e+28],\n",
       "        [-1.9507e+31, -2.4385e+30,  1.9099e+31,  2.3344e+31,  4.3252e+30,\n",
       "          1.8781e+31, -2.9730e+30, -1.3078e+31,  1.7578e+31, -2.4648e+31],\n",
       "        [-1.4931e+31, -4.3487e+31,  1.9790e+31, -5.0991e+31, -4.5261e+31,\n",
       "          7.9252e+31,  3.5656e+31,  1.5759e+31,  7.5309e+30, -9.5629e+30],\n",
       "        [-1.5800e+28,  4.8090e+28,  2.4702e+28, -1.3377e+29, -1.6650e+29,\n",
       "          1.2295e+28,  6.2898e+28,  1.8454e+27, -1.9870e+27,  2.8396e+28],\n",
       "        [-1.9960e+26, -4.3363e+26, -1.1699e+26, -3.2615e+26, -3.2092e+26,\n",
       "          5.0963e+26, -3.3384e+26,  1.7071e+26, -1.3971e+26,  3.8667e+26],\n",
       "        [ 5.6124e+30, -5.2751e+29, -4.6274e+30,  1.4991e+30,  1.7516e+30,\n",
       "         -1.3457e+30, -4.3810e+30,  1.2033e+30,  1.0845e+31, -3.7876e+30],\n",
       "        [-8.2310e+27,  2.3745e+28,  2.5928e+28, -3.9286e+28,  1.7880e+28,\n",
       "          3.8068e+28,  1.5803e+28,  1.0855e+28,  4.9355e+26, -4.8425e+28],\n",
       "        [ 3.4526e+26,  1.6660e+26, -2.3431e+26,  4.5051e+26, -9.6015e+25,\n",
       "         -5.7231e+26, -1.0687e+26,  3.0405e+26,  2.7208e+26, -9.8817e+25],\n",
       "        [-2.7988e+26, -5.5753e+26,  4.5816e+26, -1.0260e+27, -6.1996e+26,\n",
       "          1.4750e+27,  6.5616e+26,  3.1056e+26,  1.2381e+26, -4.1875e+26],\n",
       "        [ 1.0444e+23,  3.2671e+22, -6.7362e+23,  3.2012e+23, -2.2105e+23,\n",
       "         -4.4529e+23, -2.3296e+23, -9.2804e+22,  5.3096e+23, -4.9997e+23],\n",
       "        [-3.9629e+26, -5.7287e+26, -1.5239e+25, -1.9369e+26, -5.8153e+26,\n",
       "          1.8536e+26, -1.7235e+26,  1.3189e+25, -1.0977e+26, -1.3536e+26],\n",
       "        [-6.8274e+28, -6.2709e+28, -1.7636e+29, -2.2267e+28, -7.7308e+28,\n",
       "         -1.1234e+28, -6.5447e+28, -1.1783e+29,  1.1742e+29, -1.6784e+29],\n",
       "        [ 4.3623e+24, -7.7369e+24, -5.3175e+24, -3.8343e+24,  1.0634e+25,\n",
       "          2.7174e+24, -3.9873e+24,  3.3959e+24, -1.2165e+24, -1.2277e+25],\n",
       "        [-3.8253e+33, -8.3144e+33, -2.2429e+33, -6.2545e+33, -6.1538e+33,\n",
       "          9.7803e+33, -6.4030e+33,  3.2740e+33, -2.6806e+33,  7.4165e+33],\n",
       "        [-3.3237e+29, -4.1545e+28,  3.2593e+29,  3.9775e+29,  7.3892e+28,\n",
       "          3.2024e+29, -5.0498e+28, -2.2275e+29,  2.9937e+29, -4.1986e+29],\n",
       "        [-3.0093e+25, -5.0648e+25, -3.8826e+24, -1.6842e+25, -4.8312e+25,\n",
       "          1.3616e+25, -1.5281e+25,  1.7927e+23, -6.0652e+24, -1.2847e+25],\n",
       "        [-3.5272e+27, -4.4114e+26,  3.4586e+27,  4.2226e+27,  7.8398e+26,\n",
       "          3.3977e+27, -5.3639e+26, -2.3642e+27,  3.1775e+27, -4.4553e+27],\n",
       "        [ 1.0757e+27,  5.1847e+26, -7.3063e+26,  1.4013e+27, -2.9888e+26,\n",
       "         -1.7829e+27, -3.3221e+26,  9.4695e+26,  8.4647e+26, -3.0652e+26],\n",
       "        [-7.5031e+25, -9.0113e+24,  7.9991e+25,  8.8134e+25,  1.4813e+25,\n",
       "          7.0370e+25, -1.0348e+25, -5.1865e+25,  7.2528e+25, -9.7336e+25],\n",
       "        [-3.8487e+26, -1.6702e+27,  6.4859e+26, -1.7981e+27, -1.8697e+27,\n",
       "          2.8746e+27,  1.3712e+27,  8.2933e+26,  4.6859e+26, -4.7253e+26],\n",
       "        [-6.2723e+29, -7.9309e+28,  6.1512e+29,  7.4940e+29,  1.3842e+29,\n",
       "          6.0555e+29, -9.4593e+28, -4.1989e+29,  5.6486e+29, -7.9203e+29],\n",
       "        [-1.4216e+24, -3.2988e+24, -1.1898e+24, -2.2093e+24, -2.5653e+24,\n",
       "          3.6296e+24, -2.6590e+24,  1.0395e+24, -8.6996e+23,  2.3918e+24],\n",
       "        [-4.7606e+34, -1.0347e+35, -2.7915e+34, -7.7835e+34, -7.6585e+34,\n",
       "          1.2171e+35, -7.9686e+34,  4.0746e+34, -3.3359e+34,  9.2298e+34],\n",
       "        [ 1.2734e+24,  6.1346e+23, -3.5728e+23,  1.4428e+24, -8.6370e+23,\n",
       "         -2.4538e+24, -3.2424e+23,  1.5745e+24,  1.6283e+24,  6.9189e+23],\n",
       "        [-5.7135e+26, -5.9084e+26, -5.6923e+25, -3.5106e+26, -3.3433e+26,\n",
       "         -7.7870e+26, -7.1800e+25,  2.2151e+26,  1.7746e+25,  2.2127e+26],\n",
       "        [-1.7385e+30, -2.6889e+30, -2.6803e+29, -9.7923e+29, -2.9877e+30,\n",
       "          7.7669e+29, -6.9980e+29,  4.9148e+27, -4.4272e+29, -7.0535e+29],\n",
       "        [-1.1008e+26, -1.7131e+25,  1.0482e+26,  1.2367e+26,  1.8051e+25,\n",
       "          1.0915e+26, -1.8838e+25, -7.0527e+25,  9.5577e+25, -1.3162e+26],\n",
       "        [-2.7319e+24, -2.9688e+24,  1.9268e+23, -1.2942e+24, -1.5886e+24,\n",
       "          2.6851e+24, -1.0908e+24,  3.2924e+23, -6.0381e+23,  1.3035e+24],\n",
       "        [-4.1806e+25,  9.0911e+23,  4.5119e+25, -1.1618e+25, -1.5154e+26,\n",
       "          1.4562e+25, -5.4489e+25, -1.3180e+26,  2.5256e+25,  9.7579e+25],\n",
       "        [-6.2293e+27, -1.3523e+28, -3.6566e+27, -1.0173e+28, -1.0013e+28,\n",
       "          1.5921e+28, -1.0422e+28,  5.3114e+27, -4.3587e+27,  1.2063e+28],\n",
       "        [-5.6415e+28, -3.2060e+28,  2.1394e+28,  2.5185e+28, -7.1556e+28,\n",
       "          7.1418e+27, -1.3194e+28,  1.0153e+29,  6.9387e+28,  2.1554e+29],\n",
       "        [-1.6834e+27,  2.6944e+26, -1.0995e+27,  1.1555e+27, -2.1833e+27,\n",
       "         -2.0394e+26, -7.8534e+26, -1.9548e+27,  2.5719e+26,  1.0003e+27],\n",
       "        [-5.0916e+25, -1.1231e+26, -2.8636e+25, -7.5667e+25, -8.1305e+25,\n",
       "          1.2166e+26, -8.3389e+25,  4.2793e+25, -3.3641e+25,  9.6540e+25],\n",
       "        [-3.9955e+27, -2.1932e+27, -1.6223e+28,  1.6724e+27, -6.2980e+27,\n",
       "          9.2509e+25, -6.5248e+27, -7.4751e+27,  1.1050e+28, -1.2592e+28],\n",
       "        [-1.7679e+25, -2.5293e+25, -1.1863e+24, -8.3686e+24, -2.6589e+25,\n",
       "          6.8158e+24, -7.4254e+24,  1.4599e+23, -5.4374e+24, -5.5656e+24],\n",
       "        [ 3.5836e+27,  2.9043e+28,  3.9922e+27, -3.0412e+26,  3.5367e+28,\n",
       "         -3.1515e+28,  9.3839e+27, -3.4012e+27,  2.0311e+28,  3.1599e+26],\n",
       "        [-3.1299e+28, -6.0924e+28, -1.2915e+28, -4.1354e+28, -4.4003e+28,\n",
       "          7.4500e+28, -4.7110e+28,  2.1497e+28, -1.6377e+28,  4.9577e+28],\n",
       "        [-4.4050e+34, -2.4030e+34, -2.0656e+35,  1.8186e+34, -7.1277e+34,\n",
       "          4.1768e+32, -8.0698e+34, -1.0531e+35,  1.3137e+35, -1.8230e+35],\n",
       "        [ 1.6494e+28,  6.9144e+28,  3.3928e+28, -4.1331e+28,  3.1132e+28,\n",
       "          2.6936e+28,  2.4238e+28,  5.2266e+28,  2.7123e+28, -1.1395e+29],\n",
       "        [ 5.4463e+31,  4.4750e+32,  3.2517e+31,  2.2048e+30,  4.9993e+32,\n",
       "         -4.2457e+32,  1.1038e+32, -6.0318e+31,  3.1810e+32, -5.0769e+31],\n",
       "        [ 2.3851e+26,  1.1463e+26, -1.8405e+26,  3.1771e+26, -7.4417e+25,\n",
       "         -4.0067e+26, -8.2418e+25,  2.0438e+26,  2.0201e+26, -8.5667e+25],\n",
       "        [-6.7711e+28, -3.6919e+28, -3.1780e+29,  2.8128e+28, -1.0970e+29,\n",
       "          5.3697e+26, -1.2408e+29, -1.6209e+29,  2.0212e+29, -2.8064e+29],\n",
       "        [-5.2961e+27, -2.8821e+27, -2.4764e+28,  2.2034e+27, -8.5329e+27,\n",
       "          4.9815e+25, -9.6746e+27, -1.2638e+28,  1.5761e+28, -2.1877e+28],\n",
       "        [-1.6697e+30, -2.2737e+29,  1.6231e+30,  1.9730e+30,  3.5453e+29,\n",
       "          1.6229e+30, -2.6736e+29, -1.1054e+30,  1.4896e+30, -2.0801e+30],\n",
       "        [ 1.1999e+27,  7.3850e+26, -6.7860e+26,  2.7188e+27, -3.6681e+26,\n",
       "         -2.3126e+27, -5.8529e+26,  1.1573e+27,  1.7251e+27, -1.0589e+27],\n",
       "        [-2.9295e+27, -8.5605e+27,  3.8885e+27, -1.0042e+28, -8.9381e+27,\n",
       "          1.5667e+28,  7.0335e+27,  3.1258e+27,  1.4968e+27, -1.8980e+27],\n",
       "        [-8.0404e+35, -4.3842e+35, -3.7734e+36,  3.3376e+35, -1.3023e+36,\n",
       "          6.5961e+33, -1.4732e+36, -1.9247e+36,  2.3998e+36, -3.3324e+36],\n",
       "        [-2.3224e+28, -1.3201e+28,  8.7902e+27,  1.0362e+28, -2.9463e+28,\n",
       "          2.9279e+27, -5.4342e+27,  4.1802e+28,  2.8564e+28,  8.8751e+28],\n",
       "        [        inf,         inf,         inf,        -inf,         inf,\n",
       "                -inf,         inf,        -inf,         inf,        -inf],\n",
       "        [-1.3457e+24, -1.1511e+24,  6.2461e+23,  5.9163e+23, -9.0406e+23,\n",
       "          8.2975e+23, -3.3911e+23, -3.2974e+23,  3.2840e+23, -8.6917e+23],\n",
       "        [ 1.1371e+26,  6.0669e+25,  1.5248e+26, -1.4317e+26, -6.0975e+25,\n",
       "         -1.4943e+26,  5.4449e+25, -1.8195e+25,  1.0279e+26,  2.8061e+23],\n",
       "        [ 9.0435e+27,  4.3605e+27, -6.2138e+27,  1.1808e+28, -2.5381e+27,\n",
       "         -1.5013e+28, -2.8229e+27,  7.9418e+27,  7.1691e+27, -2.6355e+27],\n",
       "        [ 3.8097e+27, -4.4124e+27, -1.0568e+28, -4.3231e+27,  4.2407e+27,\n",
       "         -2.8331e+27, -6.1292e+27,  6.2519e+27, -1.3020e+27,  4.2725e+27],\n",
       "        [-2.7991e+31, -3.6633e+31,  1.8957e+31, -2.1631e+31, -5.1202e+31,\n",
       "          4.9519e+31,  1.6660e+31,  4.3924e+31,  2.8094e+31,  6.7607e+31],\n",
       "        [-4.1892e+35, -2.3805e+35,  1.5860e+35,  1.8679e+35, -5.3144e+35,\n",
       "          5.2849e+34, -9.7936e+34,  7.5385e+35,  5.1520e+35,  1.6007e+36],\n",
       "        [-1.0959e+26, -6.5643e+25, -2.6752e+26,  4.8768e+25, -1.6371e+26,\n",
       "          8.1653e+24, -1.2571e+26, -5.1741e+25,  2.5203e+26, -5.1358e+25],\n",
       "        [-5.4018e+30, -6.7574e+29,  5.2966e+30,  6.4660e+30,  1.2006e+30,\n",
       "          5.2037e+30, -8.2130e+29, -3.6207e+30,  4.8656e+30, -6.8227e+30],\n",
       "        [-4.7982e+31,  8.2394e+31, -4.7365e+31,  2.3436e+31, -4.9340e+31,\n",
       "         -9.8605e+31, -1.6718e+31,  6.6053e+31,  5.1667e+31, -4.4187e+31]])"
      ]
     },
     "execution_count": 72,
     "metadata": {},
     "output_type": "execute_result"
    }
   ],
   "source": [
    "## Your solution\n",
    "def activation(x):\n",
    "    return 1+(1/torch.exp(-x))\n",
    "\n",
    "n_input = images.shape[2]*images.shape[3]  #input layer size\n",
    "n_hidden = 256  # hidden layer size\n",
    "n_output = 10   # output later size\n",
    "\n",
    "features = images.view(images.shape[0], images.shape[2]*images.shape[3]) # Covert images to (64,784)\n",
    "\n",
    "# Generate weights and biases for both hidden layer and output layer\n",
    "W1 = torch.randn((n_input, n_hidden)) \n",
    "B1 = torch.randn((1, n_hidden))\n",
    "W2 = torch.randn((n_hidden, n_output))\n",
    "B2 = torch.randn((1, n_output))\n",
    "\n",
    "# Calculate hidden layer\n",
    "hidden_layer = activation(torch.mm(features, W1) + B1)\n",
    "# Calculate output layer\n",
    "out = torch.mm(hidden_layer, W2) + B2  # output of your network, should have shape (64,10)\n",
    "print(out.shape)\n",
    "out"
   ]
  },
  {
   "cell_type": "markdown",
   "metadata": {},
   "source": [
    "Now we have 10 outputs for our network. We want to pass in an image to our network and get out a probability distribution over the classes that tells us the likely class(es) the image belongs to. Something that looks like this:\n",
    "<img src='assets/image_distribution.png' width=500px>\n",
    "\n",
    "Here we see that the probability for each class is roughly the same. This is representing an untrained network, it hasn't seen any data yet so it just returns a uniform distribution with equal probabilities for each class.\n",
    "\n",
    "To calculate this probability distribution, we often use the [**softmax** function](https://en.wikipedia.org/wiki/Softmax_function). Mathematically this looks like\n",
    "\n",
    "$$\n",
    "\\Large \\sigma(x_i) = \\cfrac{e^{x_i}}{\\sum_k^K{e^{x_k}}}\n",
    "$$\n",
    "\n",
    "What this does is squish each input $x_i$ between 0 and 1 and normalizes the values to give you a proper probability distribution where the probabilites sum up to one.\n",
    "\n",
    "> **Exercise:** Implement a function `softmax` that performs the softmax calculation and returns probability distributions for each example in the batch. Note that you'll need to pay attention to the shapes when doing this. If you have a tensor `a` with shape `(64, 10)` and a tensor `b` with shape `(64,)`, doing `a/b` will give you an error because PyTorch will try to do the division across the columns (called broadcasting) but you'll get a size mismatch. The way to think about this is for each of the 64 examples, you only want to divide by one value, the sum in the denominator. So you need `b` to have a shape of `(64, 1)`. This way PyTorch will divide the 10 values in each row of `a` by the one value in each row of `b`. Pay attention to how you take the sum as well. You'll need to define the `dim` keyword in `torch.sum`. Setting `dim=0` takes the sum across the rows while `dim=1` takes the sum across the columns."
   ]
  },
  {
   "cell_type": "code",
   "execution_count": 73,
   "metadata": {},
   "outputs": [
    {
     "name": "stdout",
     "output_type": "stream",
     "text": [
      "torch.Size([64, 10])\n",
      "tensor([nan, nan, nan, nan, nan, nan, nan, nan, nan, nan, nan, nan, nan, nan,\n",
      "        nan, nan, nan, nan, nan, nan, nan, nan, nan, nan, nan, nan, nan, nan,\n",
      "        nan, nan, nan, nan, nan, nan, nan, nan, nan, nan, nan, nan, nan, nan,\n",
      "        nan, nan, nan, nan, nan, nan, nan, nan, nan, nan, nan, nan, nan, nan,\n",
      "        nan, nan, nan, nan, nan, nan, nan, nan])\n"
     ]
    }
   ],
   "source": [
    "def softmax(x):\n",
    "    ## TODO: Implement the softmax function here\n",
    "       return torch.exp(x)/torch.sum(torch.exp(x), dim=1).view(-1, 1)\n",
    "    \n",
    "     \n",
    "\n",
    "# Here, out should be the output of the network in the previous excercise with shape (64,10)\n",
    "probabilities = softmax(out)\n",
    "\n",
    "# Does it have the right shape? Should be (64, 10)\n",
    "print(probabilities.shape)\n",
    "# Does it sum to 1?\n",
    "print(probabilities.sum(dim=1))"
   ]
  },
  {
   "cell_type": "markdown",
   "metadata": {},
   "source": [
    "## Building networks with PyTorch\n",
    "\n",
    "PyTorch provides a module `nn` that makes building networks much simpler. Here I'll show you how to build the same one as above with 784 inputs, 256 hidden units, 10 output units and a softmax output."
   ]
  },
  {
   "cell_type": "code",
   "execution_count": 74,
   "metadata": {},
   "outputs": [],
   "source": [
    "from torch import nn"
   ]
  },
  {
   "cell_type": "code",
   "execution_count": 75,
   "metadata": {},
   "outputs": [],
   "source": [
    "class Network(nn.Module):\n",
    "    def __init__(self):\n",
    "        super().__init__()\n",
    "        \n",
    "        # Inputs to hidden layer linear transformation\n",
    "        self.hidden = nn.Linear(784, 256)\n",
    "        # Output layer, 10 units - one for each digit\n",
    "        self.output = nn.Linear(256, 10)\n",
    "        \n",
    "        # Define sigmoid activation and softmax output \n",
    "        self.sigmoid = nn.Sigmoid()\n",
    "        self.softmax = nn.Softmax(dim=1)\n",
    "        \n",
    "    def forward(self, x):\n",
    "        # Pass the input tensor through each of our operations\n",
    "        x = self.hidden(x)\n",
    "        x = self.sigmoid(x)\n",
    "        x = self.output(x)\n",
    "        x = self.softmax(x)\n",
    "        \n",
    "        return x"
   ]
  },
  {
   "cell_type": "markdown",
   "metadata": {},
   "source": [
    "Let's go through this bit by bit.\n",
    "\n",
    "```python\n",
    "class Network(nn.Module):\n",
    "```\n",
    "\n",
    "Here we're inheriting from `nn.Module`. Combined with `super().__init__()` this creates a class that tracks the architecture and provides a lot of useful methods and attributes. It is mandatory to inherit from `nn.Module` when you're creating a class for your network. The name of the class itself can be anything.\n",
    "\n",
    "```python\n",
    "self.hidden = nn.Linear(784, 256)\n",
    "```\n",
    "\n",
    "This line creates a module for a linear transformation, $x\\mathbf{W} + b$, with 784 inputs and 256 outputs and assigns it to `self.hidden`. The module automatically creates the weight and bias tensors which we'll use in the `forward` method. You can access the weight and bias tensors once the network (`net`) is created with `net.hidden.weight` and `net.hidden.bias`.\n",
    "\n",
    "```python\n",
    "self.output = nn.Linear(256, 10)\n",
    "```\n",
    "\n",
    "Similarly, this creates another linear transformation with 256 inputs and 10 outputs.\n",
    "\n",
    "```python\n",
    "self.sigmoid = nn.Sigmoid()\n",
    "self.softmax = nn.Softmax(dim=1)\n",
    "```\n",
    "\n",
    "Here I defined operations for the sigmoid activation and softmax output. Setting `dim=1` in `nn.Softmax(dim=1)` calculates softmax across the columns.\n",
    "\n",
    "```python\n",
    "def forward(self, x):\n",
    "```\n",
    "\n",
    "PyTorch networks created with `nn.Module` must have a `forward` method defined. It takes in a tensor `x` and passes it through the operations you defined in the `__init__` method.\n",
    "\n",
    "```python\n",
    "x = self.hidden(x)\n",
    "x = self.sigmoid(x)\n",
    "x = self.output(x)\n",
    "x = self.softmax(x)\n",
    "```\n",
    "\n",
    "Here the input tensor `x` is passed through each operation a reassigned to `x`. We can see that the input tensor goes through the hidden layer, then a sigmoid function, then the output layer, and finally the softmax function. It doesn't matter what you name the variables here, as long as the inputs and outputs of the operations match the network architecture you want to build. The order in which you define things in the `__init__` method doesn't matter, but you'll need to sequence the operations correctly in the `forward` method.\n",
    "\n",
    "Now we can create a `Network` object."
   ]
  },
  {
   "cell_type": "code",
   "execution_count": 76,
   "metadata": {},
   "outputs": [
    {
     "data": {
      "text/plain": [
       "Network(\n",
       "  (hidden): Linear(in_features=784, out_features=256, bias=True)\n",
       "  (output): Linear(in_features=256, out_features=10, bias=True)\n",
       "  (sigmoid): Sigmoid()\n",
       "  (softmax): Softmax()\n",
       ")"
      ]
     },
     "execution_count": 76,
     "metadata": {},
     "output_type": "execute_result"
    }
   ],
   "source": [
    "# Create the network and look at it's text representation\n",
    "model = Network()\n",
    "model"
   ]
  },
  {
   "cell_type": "markdown",
   "metadata": {},
   "source": [
    "You can define the network somewhat more concisely and clearly using the `torch.nn.functional` module. This is the most common way you'll see networks defined as many operations are simple element-wise functions. We normally import this module as `F`, `import torch.nn.functional as F`."
   ]
  },
  {
   "cell_type": "code",
   "execution_count": 77,
   "metadata": {},
   "outputs": [],
   "source": [
    "import torch.nn.functional as F\n",
    "\n",
    "class Network(nn.Module):\n",
    "    def __init__(self):\n",
    "        super().__init__()\n",
    "        # Inputs to hidden layer linear transformation\n",
    "        self.hidden = nn.Linear(784, 256)\n",
    "        # Output layer, 10 units - one for each digit\n",
    "        self.output = nn.Linear(256, 10)\n",
    "        \n",
    "    def forward(self, x):\n",
    "        # Hidden layer with sigmoid activation\n",
    "        x = F.sigmoid(self.hidden(x))\n",
    "        # Output layer with softmax activation\n",
    "        x = F.softmax(self.output(x), dim=1)\n",
    "        \n",
    "        return x"
   ]
  },
  {
   "cell_type": "markdown",
   "metadata": {},
   "source": [
    "### Activation functions\n",
    "\n",
    "So far we've only been looking at the softmax activation, but in general any function can be used as an activation function. The only requirement is that for a network to approximate a non-linear function, the activation functions must be non-linear. Here are a few more examples of common activation functions: Tanh (hyperbolic tangent), and ReLU (rectified linear unit).\n",
    "\n",
    "<img src=\"assets/activation.png\" width=700px>\n",
    "\n",
    "In practice, the ReLU function is used almost exclusively as the activation function for hidden layers."
   ]
  },
  {
   "cell_type": "markdown",
   "metadata": {},
   "source": [
    "### Your Turn to Build a Network\n",
    "\n",
    "<img src=\"assets/mlp_mnist.png\" width=600px>\n",
    "\n",
    "> **Exercise:** Create a network with 784 input units, a hidden layer with 128 units and a ReLU activation, then a hidden layer with 64 units and a ReLU activation, and finally an output layer with a softmax activation as shown above. You can use a ReLU activation with the `nn.ReLU` module or `F.relu` function."
   ]
  },
  {
   "cell_type": "code",
   "execution_count": 85,
   "metadata": {
    "scrolled": true
   },
   "outputs": [],
   "source": [
    "## Your solution here\n",
    "class Classifier(nn.Module):\n",
    "    def __init__(self):\n",
    "        super().__init__()\n",
    "        # Define layers\n",
    "        self.input_layer = nn.Linear(784,128)\n",
    "        self.fc1 = nn.Linear(128, 64)\n",
    "        self.fc2 = nn.Linear(64,10)\n",
    "        \n",
    "        # Define activation functions\n",
    "        self.relu = nn.ReLU()\n",
    "        self.softmax  = nn.Softmax(dim=1)\n",
    "   \n",
    "    # Feedword function\n",
    "    def forward(self, x):\n",
    "        x = self.input_layer(x)\n",
    "        x = self.fc1(x)\n",
    "        x = self.relu(x)\n",
    "        x = self.fc2(x)\n",
    "        x = self.relu(x)\n",
    "        x = self.softmax(x)\n",
    "        return x\n"
   ]
  },
  {
   "cell_type": "markdown",
   "metadata": {},
   "source": [
    "### Initializing weights and biases\n",
    "\n",
    "The weights and such are automatically initialized for you, but it's possible to customize how they are initialized. The weights and biases are tensors attached to the layer you defined, you can get them with `model.fc1.weight` for instance."
   ]
  },
  {
   "cell_type": "code",
   "execution_count": 86,
   "metadata": {},
   "outputs": [
    {
     "name": "stdout",
     "output_type": "stream",
     "text": [
      "Parameter containing:\n",
      "tensor([[-0.0662, -0.0824, -0.0113,  ..., -0.0267,  0.0568, -0.0763],\n",
      "        [ 0.0328, -0.0059, -0.0613,  ..., -0.0029,  0.0528, -0.0252],\n",
      "        [-0.0110, -0.0290, -0.0452,  ..., -0.0540, -0.0524, -0.0620],\n",
      "        ...,\n",
      "        [-0.0407,  0.0529,  0.0030,  ...,  0.0206, -0.0288, -0.0148],\n",
      "        [ 0.0013,  0.0640,  0.0618,  ...,  0.0222, -0.0678,  0.0712],\n",
      "        [ 0.0363, -0.0315,  0.0036,  ..., -0.0242,  0.0486, -0.0559]],\n",
      "       requires_grad=True)\n",
      "Parameter containing:\n",
      "tensor([ 0.0849,  0.0449, -0.0226, -0.0069, -0.0280,  0.0382,  0.0403,  0.0404,\n",
      "        -0.0206, -0.0105,  0.0490,  0.0159,  0.0171, -0.0539, -0.0859, -0.0817,\n",
      "         0.0428,  0.0626, -0.0786,  0.0837, -0.0101, -0.0632,  0.0204,  0.0299,\n",
      "         0.0546, -0.0738, -0.0869,  0.0254,  0.0467,  0.0087,  0.0444, -0.0548,\n",
      "         0.0198, -0.0022, -0.0833,  0.0837,  0.0551,  0.0314,  0.0089,  0.0265,\n",
      "         0.0644,  0.0130, -0.0109,  0.0119, -0.0643, -0.0301, -0.0043,  0.0187,\n",
      "         0.0190,  0.0568,  0.0174,  0.0759, -0.0301, -0.0686, -0.0073,  0.0212,\n",
      "        -0.0873, -0.0569, -0.0262, -0.0008,  0.0280, -0.0690,  0.0088,  0.0176],\n",
      "       requires_grad=True)\n"
     ]
    }
   ],
   "source": [
    "model = Classifier()\n",
    "print(model.fc1.weight)\n",
    "print(model.fc1.bias)"
   ]
  },
  {
   "cell_type": "markdown",
   "metadata": {},
   "source": [
    "For custom initialization, we want to modify these tensors in place. These are actually autograd *Variables*, so we need to get back the actual tensors with `model.fc1.weight.data`. Once we have the tensors, we can fill them with zeros (for biases) or random normal values."
   ]
  },
  {
   "cell_type": "code",
   "execution_count": 87,
   "metadata": {},
   "outputs": [
    {
     "data": {
      "text/plain": [
       "tensor([0., 0., 0., 0., 0., 0., 0., 0., 0., 0., 0., 0., 0., 0., 0., 0., 0., 0.,\n",
       "        0., 0., 0., 0., 0., 0., 0., 0., 0., 0., 0., 0., 0., 0., 0., 0., 0., 0.,\n",
       "        0., 0., 0., 0., 0., 0., 0., 0., 0., 0., 0., 0., 0., 0., 0., 0., 0., 0.,\n",
       "        0., 0., 0., 0., 0., 0., 0., 0., 0., 0.])"
      ]
     },
     "execution_count": 87,
     "metadata": {},
     "output_type": "execute_result"
    }
   ],
   "source": [
    "# Set biases to all zeros\n",
    "model.fc1.bias.data.fill_(0)"
   ]
  },
  {
   "cell_type": "code",
   "execution_count": 88,
   "metadata": {},
   "outputs": [
    {
     "data": {
      "text/plain": [
       "tensor([[-0.0067, -0.0000,  0.0046,  ...,  0.0002, -0.0112,  0.0016],\n",
       "        [ 0.0107, -0.0002, -0.0068,  ...,  0.0118,  0.0042,  0.0081],\n",
       "        [ 0.0109, -0.0020,  0.0025,  ..., -0.0062, -0.0182, -0.0148],\n",
       "        ...,\n",
       "        [-0.0041, -0.0087,  0.0076,  ..., -0.0122, -0.0066, -0.0000],\n",
       "        [-0.0032, -0.0103,  0.0179,  ..., -0.0078, -0.0054,  0.0076],\n",
       "        [-0.0046, -0.0060,  0.0116,  ...,  0.0006, -0.0119, -0.0153]])"
      ]
     },
     "execution_count": 88,
     "metadata": {},
     "output_type": "execute_result"
    }
   ],
   "source": [
    "# sample from random normal with standard dev = 0.01\n",
    "model.fc1.weight.data.normal_(std=0.01)"
   ]
  },
  {
   "cell_type": "markdown",
   "metadata": {},
   "source": [
    "### Forward pass\n",
    "\n",
    "Now that we have a network, let's see what happens when we pass in an image."
   ]
  },
  {
   "cell_type": "code",
   "execution_count": 89,
   "metadata": {},
   "outputs": [
    {
     "data": {
      "image/png": "[encoded data removed]",
      "text/plain": [
       "<Figure size 432x648 with 2 Axes>"
      ]
     },
     "metadata": {
      "image/png": {
       "height": 224,
       "width": 423
      },
      "needs_background": "light"
     },
     "output_type": "display_data"
    }
   ],
   "source": [
    "# Grab some data \n",
    "dataiter = iter(trainloader)\n",
    "images, labels = dataiter.next()\n",
    "\n",
    "# Resize images into a 1D vector, new shape is (batch size, color channels, image pixels) \n",
    "images.resize_(64, 1, 784)\n",
    "# or images.resize_(images.shape[0], 1, 784) to automatically get batch size\n",
    "\n",
    "# Forward pass through the network\n",
    "img_idx = 0\n",
    "ps = model.forward(images[img_idx,:])\n",
    "\n",
    "img = images[img_idx]\n",
    "helper.view_classify(img.view(1, 28, 28), ps)"
   ]
  },
  {
   "cell_type": "markdown",
   "metadata": {},
   "source": [
    "As you can see above, our network has basically no idea what this digit is. It's because we haven't trained it yet, all the weights are random!\n",
    "\n",
    "### Using `nn.Sequential`\n",
    "\n",
    "PyTorch provides a convenient way to build networks like this where a tensor is passed sequentially through operations, `nn.Sequential` ([documentation](https://pytorch.org/docs/master/nn.html#torch.nn.Sequential)). Using this to build the equivalent network:"
   ]
  },
  {
   "cell_type": "code",
   "execution_count": 90,
   "metadata": {},
   "outputs": [
    {
     "name": "stdout",
     "output_type": "stream",
     "text": [
      "Sequential(\n",
      "  (0): Linear(in_features=784, out_features=128, bias=True)\n",
      "  (1): ReLU()\n",
      "  (2): Linear(in_features=128, out_features=64, bias=True)\n",
      "  (3): ReLU()\n",
      "  (4): Linear(in_features=64, out_features=10, bias=True)\n",
      "  (5): Softmax()\n",
      ")\n"
     ]
    },
    {
     "data": {
      "image/png": "[encoded data removed]",
      "text/plain": [
       "<Figure size 432x648 with 2 Axes>"
      ]
     },
     "metadata": {
      "image/png": {
       "height": 224,
       "width": 423
      },
      "needs_background": "light"
     },
     "output_type": "display_data"
    }
   ],
   "source": [
    "# Hyperparameters for our network\n",
    "input_size = 784\n",
    "hidden_sizes = [128, 64]\n",
    "output_size = 10\n",
    "\n",
    "# Build a feed-forward network\n",
    "model = nn.Sequential(nn.Linear(input_size, hidden_sizes[0]),\n",
    "                      nn.ReLU(),\n",
    "                      nn.Linear(hidden_sizes[0], hidden_sizes[1]),\n",
    "                      nn.ReLU(),\n",
    "                      nn.Linear(hidden_sizes[1], output_size),\n",
    "                      nn.Softmax(dim=1))\n",
    "print(model)\n",
    "\n",
    "# Forward pass through the network and display output\n",
    "images, labels = next(iter(trainloader))\n",
    "images.resize_(images.shape[0], 1, 784)\n",
    "ps = model.forward(images[0,:])\n",
    "helper.view_classify(images[0].view(1, 28, 28), ps)"
   ]
  },
  {
   "cell_type": "markdown",
   "metadata": {},
   "source": [
    "Here our model is the same as before: 784 input units, a hidden layer with 128 units, ReLU activation, 64 unit hidden layer, another ReLU, then the output layer with 10 units, and the softmax output.\n",
    "\n",
    "The operations are availble by passing in the appropriate index. For example, if you want to get first Linear operation and look at the weights, you'd use `model[0]`."
   ]
  },
  {
   "cell_type": "code",
   "execution_count": 91,
   "metadata": {},
   "outputs": [
    {
     "name": "stdout",
     "output_type": "stream",
     "text": [
      "Linear(in_features=784, out_features=128, bias=True)\n"
     ]
    },
    {
     "data": {
      "text/plain": [
       "Parameter containing:\n",
       "tensor([[ 0.0181,  0.0266,  0.0193,  ...,  0.0280,  0.0125, -0.0234],\n",
       "        [-0.0002,  0.0208, -0.0097,  ..., -0.0122, -0.0070, -0.0293],\n",
       "        [ 0.0348, -0.0152,  0.0150,  ...,  0.0121,  0.0315, -0.0074],\n",
       "        ...,\n",
       "        [ 0.0281,  0.0139, -0.0082,  ..., -0.0094, -0.0129,  0.0238],\n",
       "        [-0.0075, -0.0020,  0.0355,  ...,  0.0183,  0.0233, -0.0144],\n",
       "        [ 0.0261,  0.0099, -0.0025,  ...,  0.0323,  0.0268,  0.0201]],\n",
       "       requires_grad=True)"
      ]
     },
     "execution_count": 91,
     "metadata": {},
     "output_type": "execute_result"
    }
   ],
   "source": [
    "print(model[0])\n",
    "model[0].weight"
   ]
  },
  {
   "cell_type": "markdown",
   "metadata": {},
   "source": [
    "You can also pass in an `OrderedDict` to name the individual layers and operations, instead of using incremental integers. Note that dictionary keys must be unique, so _each operation must have a different name_."
   ]
  },
  {
   "cell_type": "code",
   "execution_count": 92,
   "metadata": {},
   "outputs": [
    {
     "data": {
      "text/plain": [
       "Sequential(\n",
       "  (fc1): Linear(in_features=784, out_features=128, bias=True)\n",
       "  (relu1): ReLU()\n",
       "  (fc2): Linear(in_features=128, out_features=64, bias=True)\n",
       "  (relu2): ReLU()\n",
       "  (output): Linear(in_features=64, out_features=10, bias=True)\n",
       "  (softmax): Softmax()\n",
       ")"
      ]
     },
     "execution_count": 92,
     "metadata": {},
     "output_type": "execute_result"
    }
   ],
   "source": [
    "from collections import OrderedDict\n",
    "model = nn.Sequential(OrderedDict([\n",
    "                      ('fc1', nn.Linear(input_size, hidden_sizes[0])),\n",
    "                      ('relu1', nn.ReLU()),\n",
    "                      ('fc2', nn.Linear(hidden_sizes[0], hidden_sizes[1])),\n",
    "                      ('relu2', nn.ReLU()),\n",
    "                      ('output', nn.Linear(hidden_sizes[1], output_size)),\n",
    "                      ('softmax', nn.Softmax(dim=1))]))\n",
    "model"
   ]
  },
  {
   "cell_type": "markdown",
   "metadata": {},
   "source": [
    "Now you can access layers either by integer or the name"
   ]
  },
  {
   "cell_type": "code",
   "execution_count": 93,
   "metadata": {},
   "outputs": [
    {
     "name": "stdout",
     "output_type": "stream",
     "text": [
      "Linear(in_features=784, out_features=128, bias=True)\n",
      "Linear(in_features=784, out_features=128, bias=True)\n"
     ]
    }
   ],
   "source": [
    "print(model[0])\n",
    "print(model.fc1)"
   ]
  },
  {
   "cell_type": "markdown",
   "metadata": {},
   "source": [
    "In the next notebook, we'll see how we can train a neural network to accuractly predict the numbers appearing in the MNIST images."
   ]
  }
 ],
 "metadata": {
  "kernelspec": {
   "display_name": "Python 3",
   "language": "python",
   "name": "python3"
  },
  "language_info": {
   "codemirror_mode": {
    "name": "ipython",
    "version": 3
   },
   "file_extension": ".py",
   "mimetype": "text/x-python",
   "name": "python",
   "nbconvert_exporter": "python",
   "pygments_lexer": "ipython3",
   "version": "3.7.0"
  }
 },
 "nbformat": 4,
 "nbformat_minor": 2
}
